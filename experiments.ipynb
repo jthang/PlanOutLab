{
 "metadata": {
  "name": "",
  "signature": "sha256:a295f3228bdad1113e54578b6d6e2b99f75e6f7ca37a1c225dab1e543518cdca"
 },
 "nbformat": 3,
 "nbformat_minor": 0,
 "worksheets": [
  {
   "cells": [
    {
     "cell_type": "code",
     "collapsed": false,
     "input": [
      "from planout.namespace import SimpleNamespace\n",
      "from planout.experiment import SimpleExperiment, DefaultExperiment\n",
      "from planout.ops.random import *\n",
      "import pandas as pd"
     ],
     "language": "python",
     "metadata": {},
     "outputs": [],
     "prompt_number": 1
    },
    {
     "cell_type": "markdown",
     "metadata": {},
     "source": [
      "# Basic"
     ]
    },
    {
     "cell_type": "code",
     "collapsed": false,
     "input": [
      "class SignupExperiment(SimpleExperiment):\n",
      "    def assign(self, params, cookieid):\n",
      "        params.button_color = UniformChoice(\n",
      "            choices = [\"#ff0000\", \"#00ff00\"],\n",
      "            unit = cookieid)\n",
      "        params.button_text = UniformChoice(\n",
      "            choices = [\"Join Now\", \"Sign Me Up\"],\n",
      "            unit = cookieid)"
     ],
     "language": "python",
     "metadata": {},
     "outputs": [],
     "prompt_number": 2
    },
    {
     "cell_type": "markdown",
     "metadata": {},
     "source": [
      "# Weighted"
     ]
    },
    {
     "cell_type": "code",
     "collapsed": false,
     "input": [
      "class SignupExperiment2(SimpleExperiment):\n",
      "    def assign(self, params, cookieid):\n",
      "        params.button_color = UniformChoice(\n",
      "            choices = [\"#ff0000\", \"#00ff00\"],\n",
      "            unit = cookieid)\n",
      "        params.button_text = WeightedChoice(\n",
      "            choices = [\"Join Now!\", \"Sign Me Up!\"],\n",
      "            weights = [8, 2],\n",
      "            unit = cookieid)"
     ],
     "language": "python",
     "metadata": {},
     "outputs": [],
     "prompt_number": 3
    },
    {
     "cell_type": "markdown",
     "metadata": {},
     "source": [
      "# Bernoulli Trial"
     ]
    },
    {
     "cell_type": "code",
     "collapsed": false,
     "input": [
      "class MusicExperiment(SimpleExperiment):\n",
      "    def assign(self, params, userid, albumid):\n",
      "        params.sort_by_rating = BernoulliTrial(p=0.2, unit=[userid, albumid])"
     ],
     "language": "python",
     "metadata": {},
     "outputs": [],
     "prompt_number": 4
    },
    {
     "cell_type": "code",
     "collapsed": false,
     "input": [
      "class Exp3(SimpleExperiment):\n",
      "  def assign(self, e, userid):\n",
      "    e.has_banner = BernoulliTrial(p=0.97, unit=userid)\n",
      "    cond_probs = [0.5, 0.95]\n",
      "    e.has_feed_stories = BernoulliTrial(p=cond_probs[e.has_banner], unit=userid)\n",
      "    e.button_text = UniformChoice(\n",
      "      choices=[\"I'm a voter\", \"I'm voting\"], unit=userid)"
     ],
     "language": "python",
     "metadata": {},
     "outputs": [],
     "prompt_number": 5
    },
    {
     "cell_type": "markdown",
     "metadata": {},
     "source": [
      "# Chaining Random Experiments"
     ]
    },
    {
     "cell_type": "code",
     "collapsed": false,
     "input": [
      "class SearchRankingExperiment(SimpleExperiment):\n",
      "    def assign(self, params, userid, sessionid):\n",
      "        params.candidate_model = UniformChoice(choices = ['v100', 'v101', 'v102'], unit=userid)\n",
      "        params.ranking_model = UniformChoice(choices = ['v0', params.candidate_model], unit=[userid, sessionid])\n",
      "\n",
      "for s in xrange(5):\n",
      "    print SearchRankingExperiment(userid=6, sessionid=s).get('ranking_model')"
     ],
     "language": "python",
     "metadata": {},
     "outputs": [
      {
       "output_type": "stream",
       "stream": "stdout",
       "text": [
        "v100\n",
        "v100\n",
        "v100\n",
        "v0\n",
        "v0\n"
       ]
      }
     ],
     "prompt_number": 6
    },
    {
     "cell_type": "markdown",
     "metadata": {},
     "source": [
      "# Uniform Choice"
     ]
    },
    {
     "cell_type": "code",
     "collapsed": false,
     "input": [
      "class Exp1(SimpleExperiment):\n",
      "  def assign(self, e, userid):\n",
      "    e.group_size = UniformChoice(choices=[1, 10], unit=userid);\n",
      "    e.specific_goal = BernoulliTrial(p=0.8, unit=userid);\n",
      "    if e.specific_goal:\n",
      "      e.ratings_per_user_goal = UniformChoice(\n",
      "        choices=[8, 16, 32, 64], unit=userid)\n",
      "      e.ratings_goal = e.group_size * e.ratings_per_user_goal\n",
      "    return e"
     ],
     "language": "python",
     "metadata": {},
     "outputs": [],
     "prompt_number": 7
    },
    {
     "cell_type": "code",
     "collapsed": false,
     "input": [
      "class Likert(SimpleExperiment):\n",
      "    \"\"\"\n",
      "    A randomization of the survey scale for robustness of the politics measure.\n",
      "    \"\"\"\n",
      "    def setup(self):\n",
      "        self.set_log_file('logs/survey.log')\n",
      "\n",
      "    def assign(self, params, userid):\n",
      "        params.reversed_scale = UniformChoice(choices=[0,1], unit=userid)"
     ],
     "language": "python",
     "metadata": {},
     "outputs": [],
     "prompt_number": 8
    },
    {
     "cell_type": "markdown",
     "metadata": {},
     "source": [
      "### Ranking"
     ]
    },
    {
     "cell_type": "code",
     "collapsed": false,
     "input": [
      "class SearchRankingExperiment(SimpleExperiment):\n",
      "    def assign(self, params, userid, sessionid):\n",
      "        params.ranking_model = UniformChoice(\n",
      "            choices = ['rank1', 'rank2', 'rank3'],\n",
      "            unit = [userid, sessionid])"
     ],
     "language": "python",
     "metadata": {},
     "outputs": [],
     "prompt_number": 9
    },
    {
     "cell_type": "markdown",
     "metadata": {},
     "source": [
      "# Random Integer"
     ]
    },
    {
     "cell_type": "code",
     "collapsed": false,
     "input": [
      "class Exp2(SimpleExperiment):\n",
      "  def assign(self, params, userid, pageid, liking_friends):\n",
      "    params.num_cues = RandomInteger(\n",
      "      min=1,\n",
      "      max=min(len(liking_friends), 3),\n",
      "      unit=[userid, pageid]\n",
      "    )\n",
      "    params.friends_shown = Sample(\n",
      "      choices=liking_friends,\n",
      "      draws=params.num_cues,\n",
      "      unit=[userid, pageid]\n",
      "    )"
     ],
     "language": "python",
     "metadata": {},
     "outputs": [],
     "prompt_number": 10
    },
    {
     "cell_type": "markdown",
     "metadata": {},
     "source": [
      "### Google Blue"
     ]
    },
    {
     "cell_type": "code",
     "collapsed": false,
     "input": [
      "class ColorExperiment(SimpleExperiment):\n",
      "    def assign(self, params, userid):\n",
      "        # different shades of blue\n",
      "        params.blue_value = RandomInteger(min=215, max=255, unit=userid)\n",
      "        params.button_color = '#0000%s' % format(params.blue_value, '02x')\n",
      "        params.button_text = 'Join Now!'"
     ],
     "language": "python",
     "metadata": {},
     "outputs": [],
     "prompt_number": 11
    },
    {
     "cell_type": "markdown",
     "metadata": {},
     "source": [
      "# Random Float"
     ]
    },
    {
     "cell_type": "code",
     "collapsed": false,
     "input": [
      "class Exp4(SimpleExperiment):\n",
      "  def assign(self, e, sourceid, storyid, viewerid):\n",
      "    e.prob_collapse = RandomFloat(min=0.0, max=1.0, unit=sourceid)\n",
      "    e.collapse = BernoulliTrial(p=e.prob_collapse, unit=[storyid, viewerid])\n",
      "    return e"
     ],
     "language": "python",
     "metadata": {},
     "outputs": [],
     "prompt_number": 12
    },
    {
     "cell_type": "markdown",
     "metadata": {},
     "source": [
      "# Sample"
     ]
    },
    {
     "cell_type": "code",
     "collapsed": false,
     "input": [
      "class CueExperiment(SimpleExperiment):\n",
      "    \"\"\"\n",
      "    Randomly reorder the stories and choose from available cues.\n",
      "    \"\"\"\n",
      "    def setup(self):\n",
      "        self.set_log_file('logs/experiment.log')\n",
      "\n",
      "    def assign(self, params, userid, story_keys):\n",
      "        params.story_keys = Sample(choices=story_keys, unit=userid)\n",
      "        balanced_sources = list(islice(cycle([\n",
      "            'msnbc',\n",
      "            'cnn',\n",
      "            'foxnews',\n",
      "        ]), len(story_keys)))\n",
      "        params.sources = Sample(choices=balanced_sources, unit=userid)"
     ],
     "language": "python",
     "metadata": {},
     "outputs": [],
     "prompt_number": 13
    },
    {
     "cell_type": "code",
     "collapsed": false,
     "input": [],
     "language": "python",
     "metadata": {},
     "outputs": [],
     "prompt_number": 13
    },
    {
     "cell_type": "markdown",
     "metadata": {},
     "source": [
      "# Name Spaces"
     ]
    },
    {
     "cell_type": "code",
     "collapsed": false,
     "input": [
      "class V1(SimpleExperiment):\n",
      "  def assign(self, params, userid):\n",
      "    params.banner_text = UniformChoice(\n",
      "      choices=['Hello there!', 'Welcome!'],\n",
      "      unit=userid)\n",
      "\n",
      "class V2(SimpleExperiment):\n",
      "  def assign(self, params, userid):\n",
      "    params.banner_text = WeightedChoice(\n",
      "      choices=['Hello there!', 'Welcome!'],\n",
      "      weights=[0.8, 0.2],\n",
      "      unit=userid)\n",
      "\n",
      "class V3(SimpleExperiment):\n",
      "  def assign(self, params, userid):\n",
      "    params.banner_text = WeightedChoice(\n",
      "      choices=['Nice to see you!', 'Welcome back!'],\n",
      "      weights=[0.8, 0.2],\n",
      "      unit=userid)\n",
      "\n",
      "# Setting Default\n",
      "class DefaultButtonExperiment(DefaultExperiment):\n",
      "  def get_default_params(self):\n",
      "    return {'banner_text': 'Generic greetings!'}\n",
      "\n",
      "class ButtonNamespace(SimpleNamespace):\n",
      "  def setup(self):\n",
      "    self.name = 'my_demo'\n",
      "    self.primary_unit = 'userid'\n",
      "    self.num_segments = 100\n",
      "    self.default_experiment_class = DefaultButtonExperiment\n",
      "\n",
      "  def setup_experiments(self):\n",
      "    self.add_experiment('first version phase 1', V1, 10)\n",
      "    self.add_experiment('first version phase 2', V1, 30)\n",
      "    self.add_experiment('second version phase 1', V2, 40)\n",
      "    self.remove_experiment('second version phase 1')\n",
      "    self.add_experiment('third version phase 1', V3, 30)"
     ],
     "language": "python",
     "metadata": {},
     "outputs": [],
     "prompt_number": 14
    },
    {
     "cell_type": "markdown",
     "metadata": {},
     "source": [
      "# Simulations"
     ]
    },
    {
     "cell_type": "code",
     "collapsed": false,
     "input": [
      "sim_users = [SignupExperiment(cookieid=i).get_params() for i in xrange(1000)]\n",
      "assignments = pd.DataFrame.from_dict(sim_users)\n",
      "print assignments[:10]\n",
      "assignments.groupby(['button_text', 'button_color']).size()"
     ],
     "language": "python",
     "metadata": {},
     "outputs": [
      {
       "output_type": "stream",
       "stream": "stdout",
       "text": [
        "  button_color button_text\n",
        "0      #00ff00  Sign Me Up\n",
        "1      #00ff00    Join Now\n",
        "2      #ff0000  Sign Me Up\n",
        "3      #00ff00  Sign Me Up\n",
        "4      #ff0000  Sign Me Up\n",
        "5      #00ff00    Join Now\n",
        "6      #ff0000    Join Now\n",
        "7      #00ff00    Join Now\n",
        "8      #ff0000    Join Now\n",
        "9      #ff0000    Join Now\n"
       ]
      },
      {
       "metadata": {},
       "output_type": "pyout",
       "prompt_number": 15,
       "text": [
        "button_text  button_color\n",
        "Join Now     #00ff00         234\n",
        "             #ff0000         247\n",
        "Sign Me Up   #00ff00         246\n",
        "             #ff0000         273\n",
        "dtype: int64"
       ]
      }
     ],
     "prompt_number": 15
    }
   ],
   "metadata": {}
  }
 ]
}