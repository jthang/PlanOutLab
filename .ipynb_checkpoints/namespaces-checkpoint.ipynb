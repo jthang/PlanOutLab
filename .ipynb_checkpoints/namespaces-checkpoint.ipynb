{
 "metadata": {
  "name": "",
  "signature": "sha256:fcf564e67705d9a79d7b6bfd8b0bb189769607a706f662d82eb1c0c38c866c48"
 },
 "nbformat": 3,
 "nbformat_minor": 0,
 "worksheets": [
  {
   "cells": [
    {
     "cell_type": "code",
     "collapsed": false,
     "input": [
      "from planout.namespace import SimpleNamespace\n",
      "from planout.experiment import SimpleExperiment, DefaultExperiment\n",
      "from planout.ops.random import *\n",
      "import pandas as pd"
     ],
     "language": "python",
     "metadata": {},
     "outputs": [],
     "prompt_number": 1
    },
    {
     "cell_type": "markdown",
     "metadata": {},
     "source": [
      "- Random assign primary units (e.g users) to experiments\n",
      "- Those which are not assigned, given default value and not logged"
     ]
    },
    {
     "cell_type": "code",
     "collapsed": false,
     "input": [
      "class V1(SimpleExperiment):\n",
      "  def assign(self, params, userid):\n",
      "    params.banner_text = UniformChoice(\n",
      "      choices=['Hello there!', 'Welcome!'],\n",
      "      unit=userid)\n",
      "    \n",
      "class V2(SimpleExperiment):\n",
      "  def assign(self, params, userid):\n",
      "    params.banner_text = WeightedChoice(\n",
      "      choices=['Hello there!', 'Welcome!'],\n",
      "      weights=[0.8, 0.2],\n",
      "      unit=userid)\n",
      "\n",
      "class V3(SimpleExperiment):\n",
      "  def assign(self, params, userid):\n",
      "    params.banner_text = WeightedChoice(\n",
      "      choices=['Nice to see you!', 'Welcome back!'],\n",
      "      weights=[0.8, 0.2],\n",
      "      unit=userid)"
     ],
     "language": "python",
     "metadata": {},
     "outputs": [],
     "prompt_number": 2
    },
    {
     "cell_type": "markdown",
     "metadata": {},
     "source": [
      "# Default Experiment"
     ]
    },
    {
     "cell_type": "code",
     "collapsed": false,
     "input": [
      "class DefaultBannerExperiment(DefaultExperiment):\n",
      "    def get_default_params(self):\n",
      "        return {'banner_text': 'Default Greetings!'}"
     ],
     "language": "python",
     "metadata": {},
     "outputs": [],
     "prompt_number": 3
    },
    {
     "cell_type": "markdown",
     "metadata": {},
     "source": [
      "# Implementing Namespace"
     ]
    },
    {
     "cell_type": "code",
     "collapsed": false,
     "input": [
      "class BannerNamespace(SimpleNamespace):\n",
      "    def setup(self):\n",
      "        self.name = 'banner'\n",
      "        self.primary_unit = 'userid'\n",
      "        self.num_segments = 100\n",
      "        self.default_experiment_class = DefaultBannerExperiment\n",
      "\n",
      "    def setup_experiments(self):\n",
      "        self.add_experiment('v1 phase1', V1, 30)\n",
      "        self.add_experiment('v1 phase1', V1, 30)\n",
      "        self.add_experiment('v1 phase1', V1, 30)"
     ],
     "language": "python",
     "metadata": {},
     "outputs": []
    }
   ],
   "metadata": {}
  }
 ]
}