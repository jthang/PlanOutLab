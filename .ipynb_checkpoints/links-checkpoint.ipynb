{
 "metadata": {
  "name": "",
  "signature": "sha256:8aa3ec4daf29d1e72d7bc7a37ed249264912887ab0d0cc0beb3954e05518d035"
 },
 "nbformat": 3,
 "nbformat_minor": 0,
 "worksheets": [
  {
   "cells": [
    {
     "cell_type": "markdown",
     "metadata": {},
     "source": [
      "Main metric: Time on Site - Google Analytics"
     ]
    },
    {
     "cell_type": "code",
     "collapsed": false,
     "input": [
      "from planout.ops.random import *\n",
      "from planout.experiment import SimpleExperiment\n",
      "import pandas as pd\n",
      "import json"
     ],
     "language": "python",
     "metadata": {},
     "outputs": [],
     "prompt_number": 1
    },
    {
     "cell_type": "code",
     "collapsed": false,
     "input": [
      "class LinksExperiment(SimpleExperiment):\n",
      "    def setup(self):\n",
      "        self.set_log_file('links.log')\n",
      "    \n",
      "    def assign(self, params, cookieid):\n",
      "        params.links = UniformChoice(\n",
      "            choices=[18, 12, 24],\n",
      "            unit=cookieid\n",
      "        )"
     ],
     "language": "python",
     "metadata": {},
     "outputs": [],
     "prompt_number": 12
    },
    {
     "cell_type": "code",
     "collapsed": false,
     "input": [
      "def render_webpage(cookieid):\n",
      "    'simulated web page rendering function'\n",
      "    exp = LinksExperiment(cookieid=cookieid)    \n",
      "    \n",
      "    html = \"HTML code involving %s links\" % exp.get('links')"
     ],
     "language": "python",
     "metadata": {},
     "outputs": [],
     "prompt_number": 13
    },
    {
     "cell_type": "code",
     "collapsed": false,
     "input": [
      "def simulate_user_decision(cookieid):\n",
      "    exp = LinksExperiment(cookieid=cookieid)\n",
      "    if exp.get('links') == 18:\n",
      "        prob_time = 10\n",
      "    elif exp.get('links') == 12:\n",
      "        prob_time = 20\n",
      "    else:\n",
      "        prob_time = 40\n",
      "    return random.random() < prob_time"
     ],
     "language": "python",
     "metadata": {},
     "outputs": [],
     "prompt_number": 14
    },
    {
     "cell_type": "code",
     "collapsed": false,
     "input": [
      "import random\n",
      "\n",
      "random.seed(0)\n",
      "for u in xrange(5):\n",
      "    render_webpage(u)\n",
      "        "
     ],
     "language": "python",
     "metadata": {},
     "outputs": [
      {
       "output_type": "stream",
       "stream": "stderr",
       "text": [
        "INFO:LinksExperiment:{\"inputs\": {\"cookieid\": 0}, \"name\": \"LinksExperiment\", \"params\": {\"links\": 24}, \"time\": 1422672456, \"salt\": \"LinksExperiment\", \"event\": \"exposure\"}\n"
       ]
      },
      {
       "output_type": "stream",
       "stream": "stderr",
       "text": [
        "INFO:LinksExperiment:{\"inputs\": {\"cookieid\": 1}, \"name\": \"LinksExperiment\", \"params\": {\"links\": 24}, \"time\": 1422672456, \"salt\": \"LinksExperiment\", \"event\": \"exposure\"}\n"
       ]
      },
      {
       "output_type": "stream",
       "stream": "stderr",
       "text": [
        "INFO:LinksExperiment:{\"inputs\": {\"cookieid\": 2}, \"name\": \"LinksExperiment\", \"params\": {\"links\": 18}, \"time\": 1422672456, \"salt\": \"LinksExperiment\", \"event\": \"exposure\"}\n"
       ]
      },
      {
       "output_type": "stream",
       "stream": "stderr",
       "text": [
        "INFO:LinksExperiment:{\"inputs\": {\"cookieid\": 3}, \"name\": \"LinksExperiment\", \"params\": {\"links\": 24}, \"time\": 1422672456, \"salt\": \"LinksExperiment\", \"event\": \"exposure\"}\n"
       ]
      },
      {
       "output_type": "stream",
       "stream": "stderr",
       "text": [
        "INFO:LinksExperiment:{\"inputs\": {\"cookieid\": 4}, \"name\": \"LinksExperiment\", \"params\": {\"links\": 12}, \"time\": 1422672456, \"salt\": \"LinksExperiment\", \"event\": \"exposure\"}\n"
       ]
      }
     ],
     "prompt_number": 15
    },
    {
     "cell_type": "code",
     "collapsed": false,
     "input": [
      "raw_log_data = [json.loads(i) for i in open('links.log')]\n",
      "raw_log_data[:2]"
     ],
     "language": "python",
     "metadata": {},
     "outputs": [
      {
       "ename": "IOError",
       "evalue": "[Errno 2] No such file or directory: 'links.log'",
       "output_type": "pyerr",
       "traceback": [
        "\u001b[0;31m---------------------------------------------------------------------------\u001b[0m\n\u001b[0;31mIOError\u001b[0m                                   Traceback (most recent call last)",
        "\u001b[0;32m<ipython-input-11-bff99c280982>\u001b[0m in \u001b[0;36m<module>\u001b[0;34m()\u001b[0m\n\u001b[0;32m----> 1\u001b[0;31m \u001b[0mraw_log_data\u001b[0m \u001b[0;34m=\u001b[0m \u001b[0;34m[\u001b[0m\u001b[0mjson\u001b[0m\u001b[0;34m.\u001b[0m\u001b[0mloads\u001b[0m\u001b[0;34m(\u001b[0m\u001b[0mi\u001b[0m\u001b[0;34m)\u001b[0m \u001b[0;32mfor\u001b[0m \u001b[0mi\u001b[0m \u001b[0;32min\u001b[0m \u001b[0mopen\u001b[0m\u001b[0;34m(\u001b[0m\u001b[0;34m'links.log'\u001b[0m\u001b[0;34m)\u001b[0m\u001b[0;34m]\u001b[0m\u001b[0;34m\u001b[0m\u001b[0m\n\u001b[0m\u001b[1;32m      2\u001b[0m \u001b[0mraw_log_data\u001b[0m\u001b[0;34m[\u001b[0m\u001b[0;34m:\u001b[0m\u001b[0;36m2\u001b[0m\u001b[0;34m]\u001b[0m\u001b[0;34m\u001b[0m\u001b[0m\n",
        "\u001b[0;31mIOError\u001b[0m: [Errno 2] No such file or directory: 'links.log'"
       ]
      }
     ],
     "prompt_number": 11
    },
    {
     "cell_type": "code",
     "collapsed": false,
     "input": [],
     "language": "python",
     "metadata": {},
     "outputs": []
    }
   ],
   "metadata": {}
  }
 ]
}