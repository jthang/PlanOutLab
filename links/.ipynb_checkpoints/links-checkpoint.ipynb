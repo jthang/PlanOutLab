{
 "metadata": {
  "name": "",
  "signature": "sha256:f14bb66a40849ea44a074daf07fde753c1f66273cf60a7371b19f95d0f9e56fd"
 },
 "nbformat": 3,
 "nbformat_minor": 0,
 "worksheets": [
  {
   "cells": [
    {
     "cell_type": "markdown",
     "metadata": {},
     "source": [
      "Main metric: Time on Site - Google Analytics"
     ]
    },
    {
     "cell_type": "code",
     "collapsed": false,
     "input": [
      "%matplotlib inline\n",
      "import matplotlib.pyplot as plt\n",
      "import seaborn as sns\n",
      "sns.set(style=\"white\")"
     ],
     "language": "python",
     "metadata": {},
     "outputs": [],
     "prompt_number": 1
    },
    {
     "cell_type": "code",
     "collapsed": false,
     "input": [
      "from planout.ops.random import *\n",
      "from planout.experiment import SimpleExperiment\n",
      "import pandas as pd\n",
      "import json"
     ],
     "language": "python",
     "metadata": {},
     "outputs": [],
     "prompt_number": 2
    },
    {
     "cell_type": "code",
     "collapsed": false,
     "input": [
      "class LinksExperiment(SimpleExperiment):\n",
      "    def setup(self):\n",
      "        self.set_log_file('links.log')\n",
      "    \n",
      "    def assign(self, params, cookieid):\n",
      "        params.links = WeightedChoice(\n",
      "            choices=[18, 12, 24],\n",
      "            weights=[0.4, 0.3, 0.3],\n",
      "            unit=cookieid\n",
      "        )"
     ],
     "language": "python",
     "metadata": {},
     "outputs": [],
     "prompt_number": 3
    },
    {
     "cell_type": "code",
     "collapsed": false,
     "input": [
      "sim_users = [LinksExperiment(cookieid=i).get_params() for i in xrange(100)]\n",
      "assignments = pd.DataFrame.from_dict(sim_users)\n",
      "print assignments[:10]"
     ],
     "language": "python",
     "metadata": {},
     "outputs": [
      {
       "output_type": "stream",
       "stream": "stdout",
       "text": [
        "   links\n",
        "0     24\n",
        "1     12\n",
        "2     24\n",
        "3     18\n",
        "4     12\n",
        "5     18\n",
        "6     24\n",
        "7     18\n",
        "8     18\n",
        "9     18\n"
       ]
      }
     ],
     "prompt_number": 4
    },
    {
     "cell_type": "code",
     "collapsed": false,
     "input": [
      "print assignments.groupby(['links']).size()"
     ],
     "language": "python",
     "metadata": {},
     "outputs": [
      {
       "output_type": "stream",
       "stream": "stdout",
       "text": [
        "links\n",
        "12       31\n",
        "18       43\n",
        "24       26\n",
        "dtype: int64\n"
       ]
      }
     ],
     "prompt_number": 5
    },
    {
     "cell_type": "code",
     "collapsed": false,
     "input": [
      "def render_webpage(cookieid):\n",
      "    \"\"\"simulate web page rendering function\"\"\"\n",
      "    exp = LinksExperiment(cookieid=cookieid)    \n",
      "    html = \"HTML code showing %s links\" % exp.get('links')\n",
      "    return html"
     ],
     "language": "python",
     "metadata": {},
     "outputs": [],
     "prompt_number": 6
    },
    {
     "cell_type": "code",
     "collapsed": false,
     "input": [
      "for i in xrange(10):\n",
      "    print render_webpage(i)"
     ],
     "language": "python",
     "metadata": {},
     "outputs": [
      {
       "output_type": "stream",
       "stream": "stdout",
       "text": [
        "HTML code showing 24 links\n",
        "HTML code showing 12 links\n",
        "HTML code showing 24 links\n",
        "HTML code showing 18 links\n",
        "HTML code showing 12 links\n",
        "HTML code showing 18 links\n",
        "HTML code showing 24 links\n",
        "HTML code showing 18 links\n",
        "HTML code showing 18 links\n",
        "HTML code showing 18 links\n"
       ]
      }
     ],
     "prompt_number": 7
    },
    {
     "cell_type": "code",
     "collapsed": false,
     "input": [
      "from random import randint\n",
      "\n",
      "def simulate_time(cookieid):\n",
      "    exp = LinksExperiment(cookieid=cookieid)\n",
      "    if exp.get('links') == 18:\n",
      "        time_on_site = randint(20,30)\n",
      "    elif exp.get('links') == 12:\n",
      "        time_on_site = randint(10,20)\n",
      "    else:\n",
      "        time_on_site = randint(0,10)\n",
      "    exp.log_event('time_on_site', {'time_on_site': time_on_site})\n",
      "    return time_on_site"
     ],
     "language": "python",
     "metadata": {},
     "outputs": [],
     "prompt_number": 8
    },
    {
     "cell_type": "code",
     "collapsed": false,
     "input": [
      "import random\n",
      "\n",
      "random.seed(0)\n",
      "for u in xrange(100):\n",
      "    render_webpage(u), simulate_time(u)"
     ],
     "language": "python",
     "metadata": {},
     "outputs": [],
     "prompt_number": 9
    },
    {
     "cell_type": "code",
     "collapsed": false,
     "input": [
      "raw_log_data = [json.loads(i) for i in open('links.log')]\n",
      "raw_log_data[:2]"
     ],
     "language": "python",
     "metadata": {},
     "outputs": [
      {
       "metadata": {},
       "output_type": "pyout",
       "prompt_number": 10,
       "text": [
        "[{u'event': u'exposure',\n",
        "  u'inputs': {u'cookieid': 0},\n",
        "  u'name': u'LinksExperiment',\n",
        "  u'params': {u'links': 24},\n",
        "  u'salt': u'LinksExperiment',\n",
        "  u'time': 1422679839},\n",
        " {u'event': u'exposure',\n",
        "  u'inputs': {u'cookieid': 1},\n",
        "  u'name': u'LinksExperiment',\n",
        "  u'params': {u'links': 12},\n",
        "  u'salt': u'LinksExperiment',\n",
        "  u'time': 1422679839}]"
       ]
      }
     ],
     "prompt_number": 10
    },
    {
     "cell_type": "code",
     "collapsed": false,
     "input": [
      "from collections import OrderedDict\n",
      "def flatten(d):\n",
      "    \"Flatten an OrderedDict object\"\n",
      "    result = OrderedDict()\n",
      "    for k, v in d.items():\n",
      "        if isinstance(v, dict):\n",
      "            result.update(flatten(v))\n",
      "        else:\n",
      "            result[k] = v\n",
      "    return result"
     ],
     "language": "python",
     "metadata": {},
     "outputs": [],
     "prompt_number": 11
    },
    {
     "cell_type": "code",
     "collapsed": false,
     "input": [
      "log_data = pd.DataFrame.from_dict([flatten(i) for i in raw_log_data])\n",
      "log_data[:5]"
     ],
     "language": "python",
     "metadata": {},
     "outputs": [
      {
       "html": [
        "<div style=\"max-height:1000px;max-width:1500px;overflow:auto;\">\n",
        "<table border=\"1\" class=\"dataframe\">\n",
        "  <thead>\n",
        "    <tr style=\"text-align: right;\">\n",
        "      <th></th>\n",
        "      <th>cookieid</th>\n",
        "      <th>event</th>\n",
        "      <th>links</th>\n",
        "      <th>name</th>\n",
        "      <th>salt</th>\n",
        "      <th>time</th>\n",
        "      <th>time_on_site</th>\n",
        "    </tr>\n",
        "  </thead>\n",
        "  <tbody>\n",
        "    <tr>\n",
        "      <th>0</th>\n",
        "      <td> 0</td>\n",
        "      <td> exposure</td>\n",
        "      <td> 24</td>\n",
        "      <td> LinksExperiment</td>\n",
        "      <td> LinksExperiment</td>\n",
        "      <td> 1422679839</td>\n",
        "      <td>NaN</td>\n",
        "    </tr>\n",
        "    <tr>\n",
        "      <th>1</th>\n",
        "      <td> 1</td>\n",
        "      <td> exposure</td>\n",
        "      <td> 12</td>\n",
        "      <td> LinksExperiment</td>\n",
        "      <td> LinksExperiment</td>\n",
        "      <td> 1422679839</td>\n",
        "      <td>NaN</td>\n",
        "    </tr>\n",
        "    <tr>\n",
        "      <th>2</th>\n",
        "      <td> 2</td>\n",
        "      <td> exposure</td>\n",
        "      <td> 24</td>\n",
        "      <td> LinksExperiment</td>\n",
        "      <td> LinksExperiment</td>\n",
        "      <td> 1422679839</td>\n",
        "      <td>NaN</td>\n",
        "    </tr>\n",
        "    <tr>\n",
        "      <th>3</th>\n",
        "      <td> 3</td>\n",
        "      <td> exposure</td>\n",
        "      <td> 18</td>\n",
        "      <td> LinksExperiment</td>\n",
        "      <td> LinksExperiment</td>\n",
        "      <td> 1422679839</td>\n",
        "      <td>NaN</td>\n",
        "    </tr>\n",
        "    <tr>\n",
        "      <th>4</th>\n",
        "      <td> 4</td>\n",
        "      <td> exposure</td>\n",
        "      <td> 12</td>\n",
        "      <td> LinksExperiment</td>\n",
        "      <td> LinksExperiment</td>\n",
        "      <td> 1422679839</td>\n",
        "      <td>NaN</td>\n",
        "    </tr>\n",
        "  </tbody>\n",
        "</table>\n",
        "</div>"
       ],
       "metadata": {},
       "output_type": "pyout",
       "prompt_number": 12,
       "text": [
        "   cookieid     event  links             name             salt        time  \\\n",
        "0         0  exposure     24  LinksExperiment  LinksExperiment  1422679839   \n",
        "1         1  exposure     12  LinksExperiment  LinksExperiment  1422679839   \n",
        "2         2  exposure     24  LinksExperiment  LinksExperiment  1422679839   \n",
        "3         3  exposure     18  LinksExperiment  LinksExperiment  1422679839   \n",
        "4         4  exposure     12  LinksExperiment  LinksExperiment  1422679839   \n",
        "\n",
        "   time_on_site  \n",
        "0           NaN  \n",
        "1           NaN  \n",
        "2           NaN  \n",
        "3           NaN  \n",
        "4           NaN  "
       ]
      }
     ],
     "prompt_number": 12
    },
    {
     "cell_type": "code",
     "collapsed": false,
     "input": [
      "log_data[log_data.time_on_site > 0][:5]"
     ],
     "language": "python",
     "metadata": {},
     "outputs": [
      {
       "html": [
        "<div style=\"max-height:1000px;max-width:1500px;overflow:auto;\">\n",
        "<table border=\"1\" class=\"dataframe\">\n",
        "  <thead>\n",
        "    <tr style=\"text-align: right;\">\n",
        "      <th></th>\n",
        "      <th>cookieid</th>\n",
        "      <th>event</th>\n",
        "      <th>links</th>\n",
        "      <th>name</th>\n",
        "      <th>salt</th>\n",
        "      <th>time</th>\n",
        "      <th>time_on_site</th>\n",
        "    </tr>\n",
        "  </thead>\n",
        "  <tbody>\n",
        "    <tr>\n",
        "      <th>112</th>\n",
        "      <td> 0</td>\n",
        "      <td> time_on_site</td>\n",
        "      <td> 24</td>\n",
        "      <td> LinksExperiment</td>\n",
        "      <td> LinksExperiment</td>\n",
        "      <td> 1422679839</td>\n",
        "      <td>  9</td>\n",
        "    </tr>\n",
        "    <tr>\n",
        "      <th>115</th>\n",
        "      <td> 1</td>\n",
        "      <td> time_on_site</td>\n",
        "      <td> 12</td>\n",
        "      <td> LinksExperiment</td>\n",
        "      <td> LinksExperiment</td>\n",
        "      <td> 1422679839</td>\n",
        "      <td> 18</td>\n",
        "    </tr>\n",
        "    <tr>\n",
        "      <th>118</th>\n",
        "      <td> 2</td>\n",
        "      <td> time_on_site</td>\n",
        "      <td> 24</td>\n",
        "      <td> LinksExperiment</td>\n",
        "      <td> LinksExperiment</td>\n",
        "      <td> 1422679839</td>\n",
        "      <td>  4</td>\n",
        "    </tr>\n",
        "    <tr>\n",
        "      <th>121</th>\n",
        "      <td> 3</td>\n",
        "      <td> time_on_site</td>\n",
        "      <td> 18</td>\n",
        "      <td> LinksExperiment</td>\n",
        "      <td> LinksExperiment</td>\n",
        "      <td> 1422679839</td>\n",
        "      <td> 22</td>\n",
        "    </tr>\n",
        "    <tr>\n",
        "      <th>124</th>\n",
        "      <td> 4</td>\n",
        "      <td> time_on_site</td>\n",
        "      <td> 12</td>\n",
        "      <td> LinksExperiment</td>\n",
        "      <td> LinksExperiment</td>\n",
        "      <td> 1422679839</td>\n",
        "      <td> 15</td>\n",
        "    </tr>\n",
        "  </tbody>\n",
        "</table>\n",
        "</div>"
       ],
       "metadata": {},
       "output_type": "pyout",
       "prompt_number": 13,
       "text": [
        "     cookieid         event  links             name             salt  \\\n",
        "112         0  time_on_site     24  LinksExperiment  LinksExperiment   \n",
        "115         1  time_on_site     12  LinksExperiment  LinksExperiment   \n",
        "118         2  time_on_site     24  LinksExperiment  LinksExperiment   \n",
        "121         3  time_on_site     18  LinksExperiment  LinksExperiment   \n",
        "124         4  time_on_site     12  LinksExperiment  LinksExperiment   \n",
        "\n",
        "           time  time_on_site  \n",
        "112  1422679839             9  \n",
        "115  1422679839            18  \n",
        "118  1422679839             4  \n",
        "121  1422679839            22  \n",
        "124  1422679839            15  "
       ]
      }
     ],
     "prompt_number": 13
    },
    {
     "cell_type": "code",
     "collapsed": false,
     "input": [
      "df = log_data[log_data.event=='time_on_site']\n",
      "df = df[['cookieid', 'links', 'time_on_site']].drop_duplicates()\n",
      "df[['cookieid','links']].groupby('links').agg(len)"
     ],
     "language": "python",
     "metadata": {},
     "outputs": [
      {
       "html": [
        "<div style=\"max-height:1000px;max-width:1500px;overflow:auto;\">\n",
        "<table border=\"1\" class=\"dataframe\">\n",
        "  <thead>\n",
        "    <tr style=\"text-align: right;\">\n",
        "      <th></th>\n",
        "      <th>cookieid</th>\n",
        "    </tr>\n",
        "    <tr>\n",
        "      <th>links</th>\n",
        "      <th></th>\n",
        "    </tr>\n",
        "  </thead>\n",
        "  <tbody>\n",
        "    <tr>\n",
        "      <th>12</th>\n",
        "      <td> 31</td>\n",
        "    </tr>\n",
        "    <tr>\n",
        "      <th>18</th>\n",
        "      <td> 43</td>\n",
        "    </tr>\n",
        "    <tr>\n",
        "      <th>24</th>\n",
        "      <td> 26</td>\n",
        "    </tr>\n",
        "  </tbody>\n",
        "</table>\n",
        "</div>"
       ],
       "metadata": {},
       "output_type": "pyout",
       "prompt_number": 14,
       "text": [
        "       cookieid\n",
        "links          \n",
        "12           31\n",
        "18           43\n",
        "24           26"
       ]
      }
     ],
     "prompt_number": 14
    },
    {
     "cell_type": "code",
     "collapsed": false,
     "input": [
      "df[df.time_on_site > 0][:5]"
     ],
     "language": "python",
     "metadata": {},
     "outputs": [
      {
       "html": [
        "<div style=\"max-height:1000px;max-width:1500px;overflow:auto;\">\n",
        "<table border=\"1\" class=\"dataframe\">\n",
        "  <thead>\n",
        "    <tr style=\"text-align: right;\">\n",
        "      <th></th>\n",
        "      <th>cookieid</th>\n",
        "      <th>links</th>\n",
        "      <th>time_on_site</th>\n",
        "    </tr>\n",
        "  </thead>\n",
        "  <tbody>\n",
        "    <tr>\n",
        "      <th>112</th>\n",
        "      <td> 0</td>\n",
        "      <td> 24</td>\n",
        "      <td>  9</td>\n",
        "    </tr>\n",
        "    <tr>\n",
        "      <th>115</th>\n",
        "      <td> 1</td>\n",
        "      <td> 12</td>\n",
        "      <td> 18</td>\n",
        "    </tr>\n",
        "    <tr>\n",
        "      <th>118</th>\n",
        "      <td> 2</td>\n",
        "      <td> 24</td>\n",
        "      <td>  4</td>\n",
        "    </tr>\n",
        "    <tr>\n",
        "      <th>121</th>\n",
        "      <td> 3</td>\n",
        "      <td> 18</td>\n",
        "      <td> 22</td>\n",
        "    </tr>\n",
        "    <tr>\n",
        "      <th>124</th>\n",
        "      <td> 4</td>\n",
        "      <td> 12</td>\n",
        "      <td> 15</td>\n",
        "    </tr>\n",
        "  </tbody>\n",
        "</table>\n",
        "</div>"
       ],
       "metadata": {},
       "output_type": "pyout",
       "prompt_number": 15,
       "text": [
        "     cookieid  links  time_on_site\n",
        "112         0     24             9\n",
        "115         1     12            18\n",
        "118         2     24             4\n",
        "121         3     18            22\n",
        "124         4     12            15"
       ]
      }
     ],
     "prompt_number": 15
    },
    {
     "cell_type": "code",
     "collapsed": false,
     "input": [
      "import numpy as np\n",
      "df.groupby('links')[['time_on_site']].agg(np.mean)"
     ],
     "language": "python",
     "metadata": {},
     "outputs": [
      {
       "html": [
        "<div style=\"max-height:1000px;max-width:1500px;overflow:auto;\">\n",
        "<table border=\"1\" class=\"dataframe\">\n",
        "  <thead>\n",
        "    <tr style=\"text-align: right;\">\n",
        "      <th></th>\n",
        "      <th>time_on_site</th>\n",
        "    </tr>\n",
        "    <tr>\n",
        "      <th>links</th>\n",
        "      <th></th>\n",
        "    </tr>\n",
        "  </thead>\n",
        "  <tbody>\n",
        "    <tr>\n",
        "      <th>12</th>\n",
        "      <td> 15.612903</td>\n",
        "    </tr>\n",
        "    <tr>\n",
        "      <th>18</th>\n",
        "      <td> 26.232558</td>\n",
        "    </tr>\n",
        "    <tr>\n",
        "      <th>24</th>\n",
        "      <td>  5.846154</td>\n",
        "    </tr>\n",
        "  </tbody>\n",
        "</table>\n",
        "</div>"
       ],
       "metadata": {},
       "output_type": "pyout",
       "prompt_number": 16,
       "text": [
        "       time_on_site\n",
        "links              \n",
        "12        15.612903\n",
        "18        26.232558\n",
        "24         5.846154"
       ]
      }
     ],
     "prompt_number": 16
    },
    {
     "cell_type": "code",
     "collapsed": false,
     "input": [
      "sns.factorplot(\"links\", \"time_on_site\", data=df);"
     ],
     "language": "python",
     "metadata": {},
     "outputs": [
      {
       "metadata": {},
       "output_type": "display_data",
       "png": "[encoded data removed]",
       "text": [
        "<matplotlib.figure.Figure at 0x109b8b6d0>"
       ]
      }
     ],
     "prompt_number": 17
    }
   ],
   "metadata": {}
  }
 ]
}