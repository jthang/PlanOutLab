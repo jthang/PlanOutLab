{
 "metadata": {
  "name": "",
  "signature": "sha256:3cee7407dc10715762b135f6573272710100813ad37d1a87af0fc7cd84e2a753"
 },
 "nbformat": 3,
 "nbformat_minor": 0,
 "worksheets": [
  {
   "cells": [
    {
     "cell_type": "code",
     "collapsed": false,
     "input": [
      "from planout.namespace import SimpleNamespace\n",
      "from planout.experiment import SimpleExperiment, DefaultExperiment\n",
      "from planout.ops.random import *\n",
      "import pandas as pd"
     ],
     "language": "python",
     "metadata": {},
     "outputs": [],
     "prompt_number": 1
    },
    {
     "cell_type": "markdown",
     "metadata": {},
     "source": [
      "- Random assign primary units (e.g users) to experiments\n",
      "- Those which are not assigned, given default value and not logged"
     ]
    },
    {
     "cell_type": "code",
     "collapsed": false,
     "input": [
      "class V1(SimpleExperiment):\n",
      "  def assign(self, params, userid):\n",
      "    params.banner_text = UniformChoice(\n",
      "      choices=['Hello there!', 'Welcome!'],\n",
      "      unit=userid)\n",
      "    \n",
      "class V2(SimpleExperiment):\n",
      "  def assign(self, params, userid):\n",
      "    params.banner_text = WeightedChoice(\n",
      "      choices=['Hello there!', 'Welcome!'],\n",
      "      weights=[0.8, 0.2],\n",
      "      unit=userid)\n",
      "\n",
      "class V3(SimpleExperiment):\n",
      "  def assign(self, params, userid):\n",
      "    params.banner_text = WeightedChoice(\n",
      "      choices=['Nice to see you!', 'Welcome back!'],\n",
      "      weights=[0.8, 0.2],\n",
      "      unit=userid)"
     ],
     "language": "python",
     "metadata": {},
     "outputs": [],
     "prompt_number": 2
    },
    {
     "cell_type": "markdown",
     "metadata": {},
     "source": [
      "# Default Experiment"
     ]
    },
    {
     "cell_type": "code",
     "collapsed": false,
     "input": [
      "class DefaultBannerExperiment(DefaultExperiment):\n",
      "    def get_default_params(self):\n",
      "        return {'banner_text': 'Default Greetings!'}"
     ],
     "language": "python",
     "metadata": {},
     "outputs": [],
     "prompt_number": 3
    },
    {
     "cell_type": "markdown",
     "metadata": {},
     "source": [
      "# Implementing Namespace"
     ]
    },
    {
     "cell_type": "code",
     "collapsed": false,
     "input": [
      "class BannerNamespace(SimpleNamespace):\n",
      "    def setup(self):\n",
      "        self.name = 'banner'\n",
      "        self.primary_unit = 'userid'\n",
      "        self.num_segments = 100\n",
      "        self.default_experiment_class = DefaultBannerExperiment\n",
      "\n",
      "    def setup_experiments(self):\n",
      "        self.add_experiment('v1 phase1', V1, 30)\n",
      "        self.add_experiment('v1 phase2', V1, 10)\n",
      "        self.add_experiment('v2 phase1', V1, 40)"
     ],
     "language": "python",
     "metadata": {},
     "outputs": [],
     "prompt_number": 19
    },
    {
     "cell_type": "code",
     "collapsed": false,
     "input": [
      "BannerNamespace(userid=6).get('banner_text')"
     ],
     "language": "python",
     "metadata": {},
     "outputs": [
      {
       "metadata": {},
       "output_type": "pyout",
       "prompt_number": 20,
       "text": [
        "'Hello there!'"
       ]
      }
     ],
     "prompt_number": 20
    },
    {
     "cell_type": "code",
     "collapsed": false,
     "input": [
      "ns = BannerNamespace(userid=2)\n",
      "ns.get_segment()"
     ],
     "language": "python",
     "metadata": {},
     "outputs": [
      {
       "metadata": {},
       "output_type": "pyout",
       "prompt_number": 24,
       "text": [
        "44"
       ]
      }
     ],
     "prompt_number": 24
    },
    {
     "cell_type": "code",
     "collapsed": false,
     "input": [
      "for i in xrange(20):\n",
      "    e = BannerNamespace(userid=i)\n",
      "    print \"User = %s: %s\" % (i, e.get('banner_text'))"
     ],
     "language": "python",
     "metadata": {},
     "outputs": [
      {
       "output_type": "stream",
       "stream": "stdout",
       "text": [
        "User = 0: Default Greetings!\n",
        "User = 1: Welcome!\n",
        "User = 2: Hello there!\n",
        "User = 3: Hello there!\n",
        "User = 4: Welcome!\n",
        "User = 5: Welcome!\n",
        "User = 6: Hello there!\n",
        "User = 7: Hello there!\n",
        "User = 8: Welcome!\n",
        "User = 9: Default Greetings!\n",
        "User = 10: Default Greetings!\n",
        "User = 11: Hello there!\n",
        "User = 12: Hello there!\n",
        "User = 13: Hello there!\n",
        "User = 14: Hello there!\n",
        "User = 15: Welcome!\n",
        "User = 16: Welcome!\n",
        "User = 17: Hello there!"
       ]
      },
      {
       "output_type": "stream",
       "stream": "stdout",
       "text": [
        "\n",
        "User = 18: Hello there!\n",
        "User = 19: Hello there!\n"
       ]
      }
     ],
     "prompt_number": 21
    },
    {
     "cell_type": "code",
     "collapsed": false,
     "input": [
      "ns = BannerNamespace()\n",
      "allocations = pd.DataFrame(ns.segment_allocations.items(), columns=['segment', 'experiment'])\n",
      "print allocations[:20]\n",
      "print allocations.groupby('experiment').agg(len)"
     ],
     "language": "python",
     "metadata": {},
     "outputs": [
      {
       "output_type": "stream",
       "stream": "stdout",
       "text": [
        "    segment experiment\n",
        "0         0  v2 phase1\n",
        "1         1  v1 phase2\n",
        "2         2  v1 phase1\n",
        "3         3  v2 phase1\n",
        "4         4  v1 phase1\n",
        "5         6  v2 phase1\n",
        "6         7  v1 phase1\n",
        "7         8  v1 phase1\n",
        "8         9  v1 phase1\n",
        "9        10  v1 phase1\n",
        "10       11  v2 phase1\n",
        "11       12  v1 phase1\n",
        "12       13  v2 phase1\n",
        "13       14  v2 phase1\n",
        "14       15  v2 phase1\n",
        "15       16  v1 phase1\n",
        "16       17  v1 phase2\n",
        "17       18  v2 phase1\n",
        "18       19  v2 phase1\n",
        "19       21  v1 phase1\n",
        "            segment\n",
        "experiment         \n",
        "v1 phase1        30\n",
        "v1 phase2        10\n",
        "v2 phase1        40\n"
       ]
      }
     ],
     "prompt_number": 23
    },
    {
     "cell_type": "code",
     "collapsed": false,
     "input": [],
     "language": "python",
     "metadata": {},
     "outputs": [],
     "prompt_number": 22
    },
    {
     "cell_type": "code",
     "collapsed": false,
     "input": [],
     "language": "python",
     "metadata": {},
     "outputs": []
    }
   ],
   "metadata": {}
  }
 ]
}