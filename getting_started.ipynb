{
 "metadata": {
  "name": "",
  "signature": "sha256:d0a29820d6bbce0e7daf3e51029568e7ba90af8e7bd9bbf5d6ae8246509a3648"
 },
 "nbformat": 3,
 "nbformat_minor": 0,
 "worksheets": [
  {
   "cells": [
    {
     "cell_type": "code",
     "collapsed": false,
     "input": [
      "%matplotlib inline\n",
      "import matplotlib.pyplot as plt\n",
      "import seaborn as sns\n",
      "sns.set(style=\"white\")"
     ],
     "language": "python",
     "metadata": {},
     "outputs": [],
     "prompt_number": 1
    },
    {
     "cell_type": "code",
     "collapsed": false,
     "input": [
      "from planout.ops.random import *\n",
      "from planout.experiment import SimpleExperiment\n",
      "import pandas as pd"
     ],
     "language": "python",
     "metadata": {},
     "outputs": [],
     "prompt_number": 2
    },
    {
     "cell_type": "code",
     "collapsed": false,
     "input": [
      "class SignupExperiment(SimpleExperiment):\n",
      "    def assign(self, params, cookieid):\n",
      "        params.button_color = UniformChoice(\n",
      "            choices = [\"#ff0000\", \"#00ff00\"],\n",
      "            unit = cookieid)\n",
      "        params.button_text = UniformChoice(\n",
      "            choices = [\"Join Now\", \"Sign Me Up\"],\n",
      "            unit = cookieid)"
     ],
     "language": "python",
     "metadata": {},
     "outputs": [],
     "prompt_number": 3
    },
    {
     "cell_type": "code",
     "collapsed": false,
     "input": [
      "e = SignupExperiment(cookieid=5)\n",
      "print e.get('button_text')\n",
      "print e.get('button_color')"
     ],
     "language": "python",
     "metadata": {},
     "outputs": [
      {
       "output_type": "stream",
       "stream": "stdout",
       "text": [
        "Join Now\n",
        "#00ff00\n"
       ]
      }
     ],
     "prompt_number": 4
    },
    {
     "cell_type": "code",
     "collapsed": false,
     "input": [
      "for i in xrange(10):\n",
      "    e = SignupExperiment(cookieid=i)\n",
      "    print \"cookie = %s: %s, %s\" % (i, e.get('button_text'), e.get('button_color'))"
     ],
     "language": "python",
     "metadata": {},
     "outputs": [
      {
       "output_type": "stream",
       "stream": "stdout",
       "text": [
        "cookie = 0: Sign Me Up, #00ff00\n",
        "cookie = 1: Join Now, #00ff00\n",
        "cookie = 2: Sign Me Up, #ff0000\n",
        "cookie = 3: Sign Me Up, #00ff00\n",
        "cookie = 4: Sign Me Up, #ff0000\n",
        "cookie = 5: Join Now, #00ff00\n",
        "cookie = 6: Join Now, #ff0000\n",
        "cookie = 7: Join Now, #00ff00\n",
        "cookie = 8: Join Now, #ff0000\n",
        "cookie = 9: Join Now, #ff0000\n"
       ]
      }
     ],
     "prompt_number": 5
    },
    {
     "cell_type": "markdown",
     "metadata": {},
     "source": [
      "# Simulations"
     ]
    },
    {
     "cell_type": "code",
     "collapsed": false,
     "input": [
      "sim_users = [SignupExperiment(cookieid=i).get_params() for i in xrange(1000)]\n",
      "assignments = pd.DataFrame.from_dict(sim_users)\n",
      "print assignments[:10]"
     ],
     "language": "python",
     "metadata": {},
     "outputs": [
      {
       "output_type": "stream",
       "stream": "stdout",
       "text": [
        "  button_color button_text\n",
        "0      #00ff00  Sign Me Up\n",
        "1      #00ff00    Join Now\n",
        "2      #ff0000  Sign Me Up\n",
        "3      #00ff00  Sign Me Up\n",
        "4      #ff0000  Sign Me Up\n",
        "5      #00ff00    Join Now\n",
        "6      #ff0000    Join Now\n",
        "7      #00ff00    Join Now\n",
        "8      #ff0000    Join Now\n",
        "9      #ff0000    Join Now\n"
       ]
      }
     ],
     "prompt_number": 6
    },
    {
     "cell_type": "code",
     "collapsed": false,
     "input": [
      "assignments.groupby(['button_text', 'button_color']).size()"
     ],
     "language": "python",
     "metadata": {},
     "outputs": [
      {
       "metadata": {},
       "output_type": "pyout",
       "prompt_number": 7,
       "text": [
        "button_text  button_color\n",
        "Join Now     #00ff00         234\n",
        "             #ff0000         247\n",
        "Sign Me Up   #00ff00         246\n",
        "             #ff0000         273\n",
        "dtype: int64"
       ]
      }
     ],
     "prompt_number": 7
    },
    {
     "cell_type": "markdown",
     "metadata": {},
     "source": [
      "# Weighted Choice"
     ]
    },
    {
     "cell_type": "code",
     "collapsed": false,
     "input": [
      "class SignupExperiment2(SimpleExperiment):\n",
      "    def assign(self, params, cookieid):\n",
      "        params.button_color = UniformChoice(\n",
      "            choices = [\"#ff0000\", \"#00ff00\"],\n",
      "            unit = cookieid)\n",
      "        params.button_text = WeightedChoice(\n",
      "            choices = [\"Join Now!\", \"Sign Me Up!\"],\n",
      "            weights = [8, 2],\n",
      "            unit = cookieid)"
     ],
     "language": "python",
     "metadata": {},
     "outputs": [],
     "prompt_number": 8
    },
    {
     "cell_type": "code",
     "collapsed": false,
     "input": [
      "sim_users = [SignupExperiment2(cookieid=i).get_params() for i in xrange(1000)]\n",
      "assignments = pd.DataFrame.from_dict(sim_users)\n",
      "print assignments.groupby(['button_text', 'button_color']).size()"
     ],
     "language": "python",
     "metadata": {},
     "outputs": [
      {
       "output_type": "stream",
       "stream": "stdout",
       "text": [
        "button_text  button_color\n",
        "Join Now!    #00ff00         419\n",
        "             #ff0000         379\n",
        "Sign Me Up!  #00ff00          97\n",
        "             #ff0000         105\n",
        "dtype: int64\n"
       ]
      }
     ],
     "prompt_number": 9
    },
    {
     "cell_type": "markdown",
     "metadata": {},
     "source": [
      "# Google Blue"
     ]
    },
    {
     "cell_type": "code",
     "collapsed": false,
     "input": [
      "class ColorExperiment(SimpleExperiment):\n",
      "    def assign(self, params, userid):\n",
      "        # different shades of blue\n",
      "        params.blue_value = RandomInteger(min=215, max=255, unit=userid)\n",
      "        params.button_color = '#0000%s' % format(params.blue_value, '02x')\n",
      "        params.button_text = 'Join Now!'"
     ],
     "language": "python",
     "metadata": {},
     "outputs": [],
     "prompt_number": 10
    },
    {
     "cell_type": "code",
     "collapsed": false,
     "input": [
      "ColorExperiment(userid=10).get_params()"
     ],
     "language": "python",
     "metadata": {},
     "outputs": [
      {
       "metadata": {},
       "output_type": "pyout",
       "prompt_number": 11,
       "text": [
        "{'blue_value': 247, 'button_color': '#0000f7', 'button_text': 'Join Now!'}"
       ]
      }
     ],
     "prompt_number": 11
    },
    {
     "cell_type": "code",
     "collapsed": false,
     "input": [
      "sim_users = [ColorExperiment(userid=i).get_params() for i in xrange(2000)]\n",
      "assignments = pd.DataFrame.from_dict(sim_users)\n",
      "print assignments[:10]"
     ],
     "language": "python",
     "metadata": {},
     "outputs": [
      {
       "output_type": "stream",
       "stream": "stdout",
       "text": [
        "   blue_value button_color button_text\n",
        "0         231      #0000e7   Join Now!\n",
        "1         248      #0000f8   Join Now!\n",
        "2         242      #0000f2   Join Now!\n",
        "3         230      #0000e6   Join Now!\n",
        "4         239      #0000ef   Join Now!\n",
        "5         239      #0000ef   Join Now!\n",
        "6         217      #0000d9   Join Now!\n",
        "7         238      #0000ee   Join Now!\n",
        "8         241      #0000f1   Join Now!\n",
        "9         237      #0000ed   Join Now!\n"
       ]
      }
     ],
     "prompt_number": 12
    },
    {
     "cell_type": "code",
     "collapsed": false,
     "input": [
      "assignments['blue_value'].hist(bins=41);"
     ],
     "language": "python",
     "metadata": {},
     "outputs": [
      {
       "metadata": {},
       "output_type": "display_data",
       "png": "[encoded data removed]",
       "text": [
        "<matplotlib.figure.Figure at 0x109484d90>"
       ]
      }
     ],
     "prompt_number": 13
    },
    {
     "cell_type": "markdown",
     "metadata": {},
     "source": [
      "# Ranking Experiments"
     ]
    },
    {
     "cell_type": "code",
     "collapsed": false,
     "input": [
      "class SearchRankingExperiment(SimpleExperiment):\n",
      "    def assign(self, params, userid, sessionid):\n",
      "        params.ranking_model = UniformChoice(\n",
      "            choices = ['rank1', 'rank2', 'rank3'],\n",
      "            unit = [userid, sessionid])"
     ],
     "language": "python",
     "metadata": {},
     "outputs": [],
     "prompt_number": 14
    },
    {
     "cell_type": "code",
     "collapsed": false,
     "input": [
      "SearchRankingExperiment(userid=10, sessionid=2).get_params()"
     ],
     "language": "python",
     "metadata": {},
     "outputs": [
      {
       "metadata": {},
       "output_type": "pyout",
       "prompt_number": 15,
       "text": [
        "{'ranking_model': 'rank3'}"
       ]
      }
     ],
     "prompt_number": 15
    },
    {
     "cell_type": "code",
     "collapsed": false,
     "input": [
      "sim_users = [SearchRankingExperiment(userid=i, sessionid=i).get_params() for i in xrange(2000)]\n",
      "assignments = pd.DataFrame.from_dict(sim_users)\n",
      "print assignments[:10]"
     ],
     "language": "python",
     "metadata": {},
     "outputs": [
      {
       "output_type": "stream",
       "stream": "stdout",
       "text": [
        "  ranking_model\n",
        "0         rank1\n",
        "1         rank3\n",
        "2         rank3\n",
        "3         rank2\n",
        "4         rank2\n",
        "5         rank2\n",
        "6         rank2\n",
        "7         rank3\n",
        "8         rank2\n",
        "9         rank2\n"
       ]
      }
     ],
     "prompt_number": 16
    },
    {
     "cell_type": "code",
     "collapsed": false,
     "input": [
      "sns.factorplot(\"ranking_model\", data=assignments);"
     ],
     "language": "python",
     "metadata": {},
     "outputs": [
      {
       "metadata": {},
       "output_type": "display_data",
       "png": "[encoded data removed]",
       "text": [
        "<matplotlib.figure.Figure at 0x1096f6050>"
       ]
      }
     ],
     "prompt_number": 17
    },
    {
     "cell_type": "markdown",
     "metadata": {},
     "source": [
      "# Chaining Random Assignments"
     ]
    },
    {
     "cell_type": "code",
     "collapsed": false,
     "input": [
      "class SearchRankingExperiment(SimpleExperiment):\n",
      "    def assign(self, params, userid, sessionid):\n",
      "        params.candidate_model = UniformChoice(choices = ['v100', 'v101', 'v102'], unit=userid)\n",
      "        params.ranking_model = UniformChoice(choices = ['v0', params.candidate_model], unit=[userid, sessionid])\n",
      "\n",
      "for s in xrange(5):\n",
      "    print SearchRankingExperiment(userid=6, sessionid=s).get('ranking_model')"
     ],
     "language": "python",
     "metadata": {},
     "outputs": [
      {
       "output_type": "stream",
       "stream": "stdout",
       "text": [
        "v100\n",
        "v100\n",
        "v100\n",
        "v0\n",
        "v0\n"
       ]
      }
     ],
     "prompt_number": 18
    }
   ],
   "metadata": {}
  }
 ]
}