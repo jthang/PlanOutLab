{
 "metadata": {
  "name": "",
  "signature": "sha256:7ebfdedec84d12c04cdf913ef7309531857a94e41220359194e42b0f0a261ca4"
 },
 "nbformat": 3,
 "nbformat_minor": 0,
 "worksheets": [
  {
   "cells": [
    {
     "cell_type": "markdown",
     "metadata": {},
     "source": [
      "Main metric: Time on Site - Google Analytics"
     ]
    },
    {
     "cell_type": "code",
     "collapsed": false,
     "input": [
      "from planout.ops.random import *\n",
      "from planout.experiment import SimpleExperiment\n",
      "import pandas as pd\n",
      "import json"
     ],
     "language": "python",
     "metadata": {},
     "outputs": []
    },
    {
     "cell_type": "code",
     "collapsed": false,
     "input": [
      "class LinksExperiment(SimpleExperiment):\n",
      "    def setup(self):\n",
      "        self.set_log_file('logs/links.log')\n",
      "    \n",
      "    def assign(self, params, cookieid):\n",
      "        params.links = UniformChoice(\n",
      "            choices=[18, 12, 24],\n",
      "            unit=cookieid\n",
      "        )"
     ],
     "language": "python",
     "metadata": {},
     "outputs": []
    },
    {
     "cell_type": "code",
     "collapsed": false,
     "input": [
      "def render_webpage(cookieid, albumid):\n",
      "    'simulated web page rendering function'\n",
      "    exp = LinksExperiment(cookieid=cookieid)    \n",
      "    \n",
      "    html = \"HTML code involving %s links\" % exp.get('links')"
     ],
     "language": "python",
     "metadata": {},
     "outputs": []
    },
    {
     "cell_type": "code",
     "collapsed": false,
     "input": [
      "def simulate_user_decision(cookieid):\n",
      "    exp = LinksExperiment(cookieid=cookieid)\n",
      "    if exp.get('links') == 18:\n",
      "        prob_time = 10\n",
      "    elif exp.get('links') == 12:\n",
      "        prob_time = 20\n",
      "    else:\n",
      "        prob_time = 40\n",
      "    return random.random() < prob_time"
     ],
     "language": "python",
     "metadata": {},
     "outputs": []
    },
    {
     "cell_type": "code",
     "collapsed": false,
     "input": [
      "import random\n",
      "\n",
      "random.seed(0)\n",
      "for u in xrange(10):\n",
      "    for a in xrange(2):\n",
      "        render_webpage(u, a)\n",
      "        "
     ],
     "language": "python",
     "metadata": {},
     "outputs": []
    },
    {
     "cell_type": "code",
     "collapsed": false,
     "input": [],
     "language": "python",
     "metadata": {},
     "outputs": []
    }
   ],
   "metadata": {}
  }
 ]
}