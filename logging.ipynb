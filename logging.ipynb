{
 "metadata": {
  "name": "",
  "signature": "sha256:f5e81fa077bb6bfa344885c81d1b7ae816a96cbf33724c9c329fb5f9a5114b9c"
 },
 "nbformat": 3,
 "nbformat_minor": 0,
 "worksheets": [
  {
   "cells": [
    {
     "cell_type": "code",
     "collapsed": false,
     "input": [
      "from planout.ops.random import *\n",
      "from planout.experiment import SimpleExperiment\n",
      "import pandas as pd\n",
      "import json"
     ],
     "language": "python",
     "metadata": {},
     "outputs": [],
     "prompt_number": 1
    },
    {
     "cell_type": "markdown",
     "metadata": {},
     "source": [
      "# Log Data"
     ]
    },
    {
     "cell_type": "code",
     "collapsed": false,
     "input": [
      "class LoggedExperiment(SimpleExperiment):\n",
      "    def assign(self, params, userid):\n",
      "        params.x = UniformChoice(choices = [\"Sentence 1\", \"Sentence 2\"], unit=userid)\n",
      "        params.y = BernoulliTrial(p=0.5, unit=userid)\n",
      "\n",
      "print LoggedExperiment(userid=3).get('x')"
     ],
     "language": "python",
     "metadata": {},
     "outputs": [
      {
       "output_type": "stream",
       "stream": "stdout",
       "text": [
        "Sentence 1\n"
       ]
      }
     ],
     "prompt_number": 2
    },
    {
     "cell_type": "code",
     "collapsed": false,
     "input": [
      "e = LoggedExperiment(userid=4)\n",
      "print e.get('x')\n",
      "print e.get('y')"
     ],
     "language": "python",
     "metadata": {},
     "outputs": [
      {
       "output_type": "stream",
       "stream": "stdout",
       "text": [
        "Sentence 2\n",
        "1\n"
       ]
      }
     ],
     "prompt_number": 3
    },
    {
     "cell_type": "markdown",
     "metadata": {},
     "source": [
      "# Example"
     ]
    },
    {
     "cell_type": "code",
     "collapsed": false,
     "input": [
      "class MusicExperiment(SimpleExperiment):\n",
      "    def assign(self, params, userid, albumid):\n",
      "        params.sort_by_rating = BernoulliTrial(p=0.2, unit=[userid, albumid])"
     ],
     "language": "python",
     "metadata": {},
     "outputs": [],
     "prompt_number": 4
    },
    {
     "cell_type": "code",
     "collapsed": false,
     "input": [
      "import random\n",
      "\n",
      "def get_price(albumid):\n",
      "    return 11.99"
     ],
     "language": "python",
     "metadata": {},
     "outputs": [],
     "prompt_number": 5
    },
    {
     "cell_type": "markdown",
     "metadata": {},
     "source": [
      "# Render Webpage"
     ]
    },
    {
     "cell_type": "code",
     "collapsed": false,
     "input": [
      "def render_webpage(userid, albumid):\n",
      "    '''\n",
      "    rendering web page simulation\n",
      "    '''\n",
      "    # get experiment for user / album pair\n",
      "    e = MusicExperiment(userid=userid, albumid=albumid)\n",
      "    \n",
      "    # use log_exposure() to record the price\n",
      "    e.log_exposure({'price': get_price(albumid)})\n",
      "    \n",
      "    # use default value with get() in production settigns\n",
      "    if e.get('sort_by_rating', False):\n",
      "        songs = 'some sorted songs'\n",
      "    else:\n",
      "        songs = 'some non-sorted songs'\n",
      "    html = 'Some songs: %s' % songs"
     ],
     "language": "python",
     "metadata": {},
     "outputs": [],
     "prompt_number": 6
    },
    {
     "cell_type": "markdown",
     "metadata": {},
     "source": [
      "# Log the Outcome"
     ]
    },
    {
     "cell_type": "code",
     "collapsed": false,
     "input": [
      "def handle_purchase(userid, albumid):\n",
      "    '''\n",
      "    handle the purchase of an album\n",
      "    '''\n",
      "    e = MusicExperiment(userid=userid, albumid=albumid)\n",
      "    # logging events\n",
      "    e.log_event('purchase', {'price': get_price(albumid)})"
     ],
     "language": "python",
     "metadata": {},
     "outputs": [],
     "prompt_number": 7
    },
    {
     "cell_type": "code",
     "collapsed": false,
     "input": [
      "def simulate_user_decision(userid, albumid):\n",
      "    '''\n",
      "    simulate user experience\n",
      "    '''\n",
      "    e = MusicExperiment(userid=userid, albumid=albumid)\n",
      "    # turn of auto-logging\n",
      "    e.set_auto_exposure_logging(False)\n",
      "    \n",
      "    if e.get('sort_by_rating'):\n",
      "        prob_purchase = 0.15\n",
      "    else:\n",
      "        prob_purchase = 0.10\n",
      "    \n",
      "    return random.random() < prob_purchase"
     ],
     "language": "python",
     "metadata": {},
     "outputs": [],
     "prompt_number": 8
    },
    {
     "cell_type": "markdown",
     "metadata": {},
     "source": [
      "### Running Simulation"
     ]
    },
    {
     "cell_type": "code",
     "collapsed": false,
     "input": [
      "random.seed(0)\n",
      "for u in xrange(500):\n",
      "    for a in xrange(20):\n",
      "        render_webpage(u, a)\n",
      "        if simulate_user_decision(u, a):\n",
      "            handle_purchase(u, a)"
     ],
     "language": "python",
     "metadata": {},
     "outputs": [],
     "prompt_number": 9
    },
    {
     "cell_type": "markdown",
     "metadata": {},
     "source": [
      "### Loading the Data (JSON)"
     ]
    },
    {
     "cell_type": "code",
     "collapsed": false,
     "input": [
      "raw_log_data = [json.loads(i) for i in open('MusicExperiment.log')]\n",
      "raw_log_data[:2]"
     ],
     "language": "python",
     "metadata": {},
     "outputs": [
      {
       "metadata": {},
       "output_type": "pyout",
       "prompt_number": 10,
       "text": [
        "[{u'event': u'exposure',\n",
        "  u'extra_data': {u'price': 11.99},\n",
        "  u'inputs': {u'albumid': 0, u'userid': 0},\n",
        "  u'name': u'MusicExperiment',\n",
        "  u'params': {u'sort_by_rating': 0},\n",
        "  u'salt': u'MusicExperiment',\n",
        "  u'time': 1422377107},\n",
        " {u'event': u'exposure',\n",
        "  u'extra_data': {u'price': 11.99},\n",
        "  u'inputs': {u'albumid': 1, u'userid': 0},\n",
        "  u'name': u'MusicExperiment',\n",
        "  u'params': {u'sort_by_rating': 0},\n",
        "  u'salt': u'MusicExperiment',\n",
        "  u'time': 1422377107}]"
       ]
      }
     ],
     "prompt_number": 10
    },
    {
     "cell_type": "code",
     "collapsed": false,
     "input": [
      "from collections import OrderedDict\n",
      "def flatten(d):\n",
      "    \"Flatten an OrderedDict object\"\n",
      "    result = OrderedDict()\n",
      "    for k, v in d.items():\n",
      "        if isinstance(v, dict):\n",
      "            result.update(flatten(v))\n",
      "        else:\n",
      "            result[k] = v\n",
      "    return result"
     ],
     "language": "python",
     "metadata": {},
     "outputs": [],
     "prompt_number": 11
    },
    {
     "cell_type": "code",
     "collapsed": false,
     "input": [
      "log_data = pd.DataFrame.from_dict([flatten(i) for i in raw_log_data])\n",
      "log_data[:5]"
     ],
     "language": "python",
     "metadata": {},
     "outputs": [
      {
       "html": [
        "<div style=\"max-height:1000px;max-width:1500px;overflow:auto;\">\n",
        "<table border=\"1\" class=\"dataframe\">\n",
        "  <thead>\n",
        "    <tr style=\"text-align: right;\">\n",
        "      <th></th>\n",
        "      <th>albumid</th>\n",
        "      <th>event</th>\n",
        "      <th>name</th>\n",
        "      <th>price</th>\n",
        "      <th>salt</th>\n",
        "      <th>sort_by_rating</th>\n",
        "      <th>time</th>\n",
        "      <th>userid</th>\n",
        "    </tr>\n",
        "  </thead>\n",
        "  <tbody>\n",
        "    <tr>\n",
        "      <th>0</th>\n",
        "      <td> 0</td>\n",
        "      <td> exposure</td>\n",
        "      <td> MusicExperiment</td>\n",
        "      <td> 11.99</td>\n",
        "      <td> MusicExperiment</td>\n",
        "      <td> 0</td>\n",
        "      <td> 1422377107</td>\n",
        "      <td> 0</td>\n",
        "    </tr>\n",
        "    <tr>\n",
        "      <th>1</th>\n",
        "      <td> 1</td>\n",
        "      <td> exposure</td>\n",
        "      <td> MusicExperiment</td>\n",
        "      <td> 11.99</td>\n",
        "      <td> MusicExperiment</td>\n",
        "      <td> 0</td>\n",
        "      <td> 1422377107</td>\n",
        "      <td> 0</td>\n",
        "    </tr>\n",
        "    <tr>\n",
        "      <th>2</th>\n",
        "      <td> 2</td>\n",
        "      <td> exposure</td>\n",
        "      <td> MusicExperiment</td>\n",
        "      <td> 11.99</td>\n",
        "      <td> MusicExperiment</td>\n",
        "      <td> 0</td>\n",
        "      <td> 1422377107</td>\n",
        "      <td> 0</td>\n",
        "    </tr>\n",
        "    <tr>\n",
        "      <th>3</th>\n",
        "      <td> 3</td>\n",
        "      <td> exposure</td>\n",
        "      <td> MusicExperiment</td>\n",
        "      <td> 11.99</td>\n",
        "      <td> MusicExperiment</td>\n",
        "      <td> 0</td>\n",
        "      <td> 1422377107</td>\n",
        "      <td> 0</td>\n",
        "    </tr>\n",
        "    <tr>\n",
        "      <th>4</th>\n",
        "      <td> 4</td>\n",
        "      <td> exposure</td>\n",
        "      <td> MusicExperiment</td>\n",
        "      <td> 11.99</td>\n",
        "      <td> MusicExperiment</td>\n",
        "      <td> 0</td>\n",
        "      <td> 1422377107</td>\n",
        "      <td> 0</td>\n",
        "    </tr>\n",
        "  </tbody>\n",
        "</table>\n",
        "</div>"
       ],
       "metadata": {},
       "output_type": "pyout",
       "prompt_number": 12,
       "text": [
        "   albumid     event             name  price             salt  sort_by_rating  \\\n",
        "0        0  exposure  MusicExperiment  11.99  MusicExperiment               0   \n",
        "1        1  exposure  MusicExperiment  11.99  MusicExperiment               0   \n",
        "2        2  exposure  MusicExperiment  11.99  MusicExperiment               0   \n",
        "3        3  exposure  MusicExperiment  11.99  MusicExperiment               0   \n",
        "4        4  exposure  MusicExperiment  11.99  MusicExperiment               0   \n",
        "\n",
        "         time  userid  \n",
        "0  1422377107       0  \n",
        "1  1422377107       0  \n",
        "2  1422377107       0  \n",
        "3  1422377107       0  \n",
        "4  1422377107       0  "
       ]
      }
     ],
     "prompt_number": 12
    },
    {
     "cell_type": "code",
     "collapsed": false,
     "input": [
      "log_data.event.unique()"
     ],
     "language": "python",
     "metadata": {},
     "outputs": [
      {
       "metadata": {},
       "output_type": "pyout",
       "prompt_number": 13,
       "text": [
        "array([u'exposure', u'purchase'], dtype=object)"
       ]
      }
     ],
     "prompt_number": 13
    },
    {
     "cell_type": "code",
     "collapsed": false,
     "input": [
      "all_exposures = log_data[log_data.event == 'exposure']\n",
      "unique_exposures = all_exposures[['userid', 'albumid', 'sort_by_rating']]\n",
      "unique_exposures.head()"
     ],
     "language": "python",
     "metadata": {},
     "outputs": [
      {
       "html": [
        "<div style=\"max-height:1000px;max-width:1500px;overflow:auto;\">\n",
        "<table border=\"1\" class=\"dataframe\">\n",
        "  <thead>\n",
        "    <tr style=\"text-align: right;\">\n",
        "      <th></th>\n",
        "      <th>userid</th>\n",
        "      <th>albumid</th>\n",
        "      <th>sort_by_rating</th>\n",
        "    </tr>\n",
        "  </thead>\n",
        "  <tbody>\n",
        "    <tr>\n",
        "      <th>0</th>\n",
        "      <td> 0</td>\n",
        "      <td> 0</td>\n",
        "      <td> 0</td>\n",
        "    </tr>\n",
        "    <tr>\n",
        "      <th>1</th>\n",
        "      <td> 0</td>\n",
        "      <td> 1</td>\n",
        "      <td> 0</td>\n",
        "    </tr>\n",
        "    <tr>\n",
        "      <th>2</th>\n",
        "      <td> 0</td>\n",
        "      <td> 2</td>\n",
        "      <td> 0</td>\n",
        "    </tr>\n",
        "    <tr>\n",
        "      <th>3</th>\n",
        "      <td> 0</td>\n",
        "      <td> 3</td>\n",
        "      <td> 0</td>\n",
        "    </tr>\n",
        "    <tr>\n",
        "      <th>4</th>\n",
        "      <td> 0</td>\n",
        "      <td> 4</td>\n",
        "      <td> 0</td>\n",
        "    </tr>\n",
        "  </tbody>\n",
        "</table>\n",
        "</div>"
       ],
       "metadata": {},
       "output_type": "pyout",
       "prompt_number": 14,
       "text": [
        "   userid  albumid  sort_by_rating\n",
        "0       0        0               0\n",
        "1       0        1               0\n",
        "2       0        2               0\n",
        "3       0        3               0\n",
        "4       0        4               0"
       ]
      }
     ],
     "prompt_number": 14
    },
    {
     "cell_type": "code",
     "collapsed": false,
     "input": [
      "unique_exposures[['userid','sort_by_rating']].groupby('sort_by_rating').agg(len)"
     ],
     "language": "python",
     "metadata": {},
     "outputs": [
      {
       "html": [
        "<div style=\"max-height:1000px;max-width:1500px;overflow:auto;\">\n",
        "<table border=\"1\" class=\"dataframe\">\n",
        "  <thead>\n",
        "    <tr style=\"text-align: right;\">\n",
        "      <th></th>\n",
        "      <th>userid</th>\n",
        "    </tr>\n",
        "    <tr>\n",
        "      <th>sort_by_rating</th>\n",
        "      <th></th>\n",
        "    </tr>\n",
        "  </thead>\n",
        "  <tbody>\n",
        "    <tr>\n",
        "      <th>0</th>\n",
        "      <td> 47928</td>\n",
        "    </tr>\n",
        "    <tr>\n",
        "      <th>1</th>\n",
        "      <td> 12072</td>\n",
        "    </tr>\n",
        "  </tbody>\n",
        "</table>\n",
        "</div>"
       ],
       "metadata": {},
       "output_type": "pyout",
       "prompt_number": 15,
       "text": [
        "                userid\n",
        "sort_by_rating        \n",
        "0                47928\n",
        "1                12072"
       ]
      }
     ],
     "prompt_number": 15
    },
    {
     "cell_type": "code",
     "collapsed": false,
     "input": [
      "conversions = log_data[log_data.event == 'purchase'][['userid', 'albumid','price']]\n",
      "df = pd.merge(unique_exposures, conversions, on=['userid', 'albumid'], how='left')\n",
      "df['purchased'] = df.price.notnull()\n",
      "df['revenue'] = df.purchased * df.price.fillna(0)"
     ],
     "language": "python",
     "metadata": {},
     "outputs": [],
     "prompt_number": 16
    },
    {
     "cell_type": "code",
     "collapsed": false,
     "input": [
      "df.head()"
     ],
     "language": "python",
     "metadata": {},
     "outputs": [
      {
       "html": [
        "<div style=\"max-height:1000px;max-width:1500px;overflow:auto;\">\n",
        "<table border=\"1\" class=\"dataframe\">\n",
        "  <thead>\n",
        "    <tr style=\"text-align: right;\">\n",
        "      <th></th>\n",
        "      <th>userid</th>\n",
        "      <th>albumid</th>\n",
        "      <th>sort_by_rating</th>\n",
        "      <th>price</th>\n",
        "      <th>purchased</th>\n",
        "      <th>revenue</th>\n",
        "    </tr>\n",
        "  </thead>\n",
        "  <tbody>\n",
        "    <tr>\n",
        "      <th>0</th>\n",
        "      <td> 0</td>\n",
        "      <td> 0</td>\n",
        "      <td> 0</td>\n",
        "      <td>NaN</td>\n",
        "      <td> False</td>\n",
        "      <td> 0</td>\n",
        "    </tr>\n",
        "    <tr>\n",
        "      <th>1</th>\n",
        "      <td> 0</td>\n",
        "      <td> 0</td>\n",
        "      <td> 0</td>\n",
        "      <td>NaN</td>\n",
        "      <td> False</td>\n",
        "      <td> 0</td>\n",
        "    </tr>\n",
        "    <tr>\n",
        "      <th>2</th>\n",
        "      <td> 0</td>\n",
        "      <td> 0</td>\n",
        "      <td> 0</td>\n",
        "      <td>NaN</td>\n",
        "      <td> False</td>\n",
        "      <td> 0</td>\n",
        "    </tr>\n",
        "    <tr>\n",
        "      <th>3</th>\n",
        "      <td> 0</td>\n",
        "      <td> 0</td>\n",
        "      <td> 0</td>\n",
        "      <td>NaN</td>\n",
        "      <td> False</td>\n",
        "      <td> 0</td>\n",
        "    </tr>\n",
        "    <tr>\n",
        "      <th>4</th>\n",
        "      <td> 0</td>\n",
        "      <td> 0</td>\n",
        "      <td> 0</td>\n",
        "      <td>NaN</td>\n",
        "      <td> False</td>\n",
        "      <td> 0</td>\n",
        "    </tr>\n",
        "  </tbody>\n",
        "</table>\n",
        "</div>"
       ],
       "metadata": {},
       "output_type": "pyout",
       "prompt_number": 17,
       "text": [
        "   userid  albumid  sort_by_rating  price purchased  revenue\n",
        "0       0        0               0    NaN     False        0\n",
        "1       0        0               0    NaN     False        0\n",
        "2       0        0               0    NaN     False        0\n",
        "3       0        0               0    NaN     False        0\n",
        "4       0        0               0    NaN     False        0"
       ]
      }
     ],
     "prompt_number": 17
    },
    {
     "cell_type": "code",
     "collapsed": false,
     "input": [
      "df[df.price > 0].head()"
     ],
     "language": "python",
     "metadata": {},
     "outputs": [
      {
       "html": [
        "<div style=\"max-height:1000px;max-width:1500px;overflow:auto;\">\n",
        "<table border=\"1\" class=\"dataframe\">\n",
        "  <thead>\n",
        "    <tr style=\"text-align: right;\">\n",
        "      <th></th>\n",
        "      <th>userid</th>\n",
        "      <th>albumid</th>\n",
        "      <th>sort_by_rating</th>\n",
        "      <th>price</th>\n",
        "      <th>purchased</th>\n",
        "      <th>revenue</th>\n",
        "    </tr>\n",
        "  </thead>\n",
        "  <tbody>\n",
        "    <tr>\n",
        "      <th>210</th>\n",
        "      <td> 1</td>\n",
        "      <td> 15</td>\n",
        "      <td> 0</td>\n",
        "      <td> 11.99</td>\n",
        "      <td> True</td>\n",
        "      <td> 11.99</td>\n",
        "    </tr>\n",
        "    <tr>\n",
        "      <th>211</th>\n",
        "      <td> 1</td>\n",
        "      <td> 15</td>\n",
        "      <td> 0</td>\n",
        "      <td> 11.99</td>\n",
        "      <td> True</td>\n",
        "      <td> 11.99</td>\n",
        "    </tr>\n",
        "    <tr>\n",
        "      <th>212</th>\n",
        "      <td> 1</td>\n",
        "      <td> 15</td>\n",
        "      <td> 0</td>\n",
        "      <td> 11.99</td>\n",
        "      <td> True</td>\n",
        "      <td> 11.99</td>\n",
        "    </tr>\n",
        "    <tr>\n",
        "      <th>213</th>\n",
        "      <td> 1</td>\n",
        "      <td> 15</td>\n",
        "      <td> 0</td>\n",
        "      <td> 11.99</td>\n",
        "      <td> True</td>\n",
        "      <td> 11.99</td>\n",
        "    </tr>\n",
        "    <tr>\n",
        "      <th>214</th>\n",
        "      <td> 1</td>\n",
        "      <td> 15</td>\n",
        "      <td> 0</td>\n",
        "      <td> 11.99</td>\n",
        "      <td> True</td>\n",
        "      <td> 11.99</td>\n",
        "    </tr>\n",
        "  </tbody>\n",
        "</table>\n",
        "</div>"
       ],
       "metadata": {},
       "output_type": "pyout",
       "prompt_number": 18,
       "text": [
        "     userid  albumid  sort_by_rating  price purchased  revenue\n",
        "210       1       15               0  11.99      True    11.99\n",
        "211       1       15               0  11.99      True    11.99\n",
        "212       1       15               0  11.99      True    11.99\n",
        "213       1       15               0  11.99      True    11.99\n",
        "214       1       15               0  11.99      True    11.99"
       ]
      }
     ],
     "prompt_number": 18
    },
    {
     "cell_type": "code",
     "collapsed": false,
     "input": [
      "import numpy as np\n",
      "df.groupby('sort_by_rating')[['purchased', 'price', 'revenue']].agg(np.mean)"
     ],
     "language": "python",
     "metadata": {},
     "outputs": [
      {
       "html": [
        "<div style=\"max-height:1000px;max-width:1500px;overflow:auto;\">\n",
        "<table border=\"1\" class=\"dataframe\">\n",
        "  <thead>\n",
        "    <tr style=\"text-align: right;\">\n",
        "      <th></th>\n",
        "      <th>purchased</th>\n",
        "      <th>price</th>\n",
        "      <th>revenue</th>\n",
        "    </tr>\n",
        "    <tr>\n",
        "      <th>sort_by_rating</th>\n",
        "      <th></th>\n",
        "      <th></th>\n",
        "      <th></th>\n",
        "    </tr>\n",
        "  </thead>\n",
        "  <tbody>\n",
        "    <tr>\n",
        "      <th>0</th>\n",
        "      <td> 0.405042</td>\n",
        "      <td> 11.99</td>\n",
        "      <td> 4.856457</td>\n",
        "    </tr>\n",
        "    <tr>\n",
        "      <th>1</th>\n",
        "      <td> 0.521226</td>\n",
        "      <td> 11.99</td>\n",
        "      <td> 6.249497</td>\n",
        "    </tr>\n",
        "  </tbody>\n",
        "</table>\n",
        "</div>"
       ],
       "metadata": {},
       "output_type": "pyout",
       "prompt_number": 19,
       "text": [
        "                purchased  price   revenue\n",
        "sort_by_rating                            \n",
        "0                0.405042  11.99  4.856457\n",
        "1                0.521226  11.99  6.249497"
       ]
      }
     ],
     "prompt_number": 19
    },
    {
     "cell_type": "markdown",
     "metadata": {},
     "source": [
      "### Compute Confidence Intervals"
     ]
    }
   ],
   "metadata": {}
  }
 ]
}